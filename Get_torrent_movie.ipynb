{
  "nbformat": 4,
  "nbformat_minor": 0,
  "metadata": {
    "colab": {
      "provenance": [],
      "authorship_tag": "ABX9TyNBjw/RpOcCT7rkW5i0bkVy",
      "include_colab_link": true
    },
    "kernelspec": {
      "name": "python3",
      "display_name": "Python 3"
    },
    "language_info": {
      "name": "python"
    }
  },
  "cells": [
    {
      "cell_type": "markdown",
      "metadata": {
        "id": "view-in-github",
        "colab_type": "text"
      },
      "source": [
        "<a href=\"https://colab.research.google.com/github/alberto1971/Curso-de-introduccion-a-Big-Data-Parte-1-nov2021/blob/main/Get_torrent_movie.ipynb\" target=\"_parent\"><img src=\"https://colab.research.google.com/assets/colab-badge.svg\" alt=\"Open In Colab\"/></a>"
      ]
    },
    {
      "cell_type": "code",
      "execution_count": 1,
      "metadata": {
        "colab": {
          "base_uri": "https://localhost:8080/"
        },
        "id": "yVGDZVXbu3oh",
        "outputId": "b5fe0cf3-80db-46a8-a992-f0e1461b58cb"
      },
      "outputs": [
        {
          "output_type": "stream",
          "name": "stdout",
          "text": [
            "Looking in indexes: https://pypi.org/simple, https://us-python.pkg.dev/colab-wheels/public/simple/\n",
            "Collecting pyYify\n",
            "  Downloading pyYify-1.9.2-py3-none-any.whl (6.3 kB)\n",
            "Requirement already satisfied: bs4 in /usr/local/lib/python3.7/dist-packages (from pyYify) (0.0.1)\n",
            "Requirement already satisfied: requests in /usr/local/lib/python3.7/dist-packages (from pyYify) (2.23.0)\n",
            "Requirement already satisfied: beautifulsoup4 in /usr/local/lib/python3.7/dist-packages (from bs4->pyYify) (4.6.3)\n",
            "Requirement already satisfied: certifi>=2017.4.17 in /usr/local/lib/python3.7/dist-packages (from requests->pyYify) (2022.6.15)\n",
            "Requirement already satisfied: idna<3,>=2.5 in /usr/local/lib/python3.7/dist-packages (from requests->pyYify) (2.10)\n",
            "Requirement already satisfied: chardet<4,>=3.0.2 in /usr/local/lib/python3.7/dist-packages (from requests->pyYify) (3.0.4)\n",
            "Requirement already satisfied: urllib3!=1.25.0,!=1.25.1,<1.26,>=1.21.1 in /usr/local/lib/python3.7/dist-packages (from requests->pyYify) (1.24.3)\n",
            "Installing collected packages: pyYify\n",
            "Successfully installed pyYify-1.9.2\n"
          ]
        }
      ],
      "source": [
        "pip install pyYify"
      ]
    },
    {
      "cell_type": "code",
      "source": [
        "from pyYify import yify"
      ],
      "metadata": {
        "id": "oIdm0oGpu_J1"
      },
      "execution_count": 2,
      "outputs": []
    },
    {
      "cell_type": "markdown",
      "source": [
        "The search_string for the movie can be ‘Movie Title,IMDb Code, Actor Name, Director Name’. quality = ‘All’ , ‘720p’ , ‘1080p’ , ‘3D’. minimum_rating is an imdb_rating. genre = See https://www.imdb.com/genre/ for a list of genres."
      ],
      "metadata": {
        "id": "ST_jeeHnvzb-"
      }
    },
    {
      "cell_type": "code",
      "source": [
        "search_string = \"The invisible man\"\n",
        "quality=\"1080p\"\n",
        "minimum_rating=\"All\"\n",
        "genre=\"All\"\n",
        "\n",
        "#movies_list = yify.search_movies(search_string , quality , minimum_rating , genre)\n",
        "movies_list = yify.search_movies(search_string)"
      ],
      "metadata": {
        "id": "Y_7BgO-OvQHY"
      },
      "execution_count": 12,
      "outputs": []
    },
    {
      "cell_type": "code",
      "source": [
        "for movie in movies_list:\n",
        "    movie.getinfo()"
      ],
      "metadata": {
        "id": "F8knQ-8hvljy"
      },
      "execution_count": 13,
      "outputs": []
    },
    {
      "cell_type": "code",
      "source": [
        "movie1 = movies_list[0]\n",
        "torrent1 = movie1.torrents[0]\n",
        "\n",
        "print(\"Magnet link = \" , torrent1.magnet)"
      ],
      "metadata": {
        "colab": {
          "base_uri": "https://localhost:8080/"
        },
        "id": "6LlLV0vtwRP4",
        "outputId": "7d6b3103-606d-4307-efb9-9d5d27fc366f"
      },
      "execution_count": 14,
      "outputs": [
        {
          "output_type": "stream",
          "name": "stdout",
          "text": [
            "Magnet link =  magnet:?xt=urn:btih:2FE8317F5272377BF506361D636475AE87260DE9&dn=The+Invisible+Man+vs.+The+Human+Fly&tr=udp://open.demonii.com:1337/announce&tr=udp://tracker.openbittorrent.com:80&tr=udp://tracker.coppersurfer.tk:6969&tr=udp://glotorrents.pw:6969/announce&tr=udp://tracker.opentrackr.org:1337/announce&tr=udp://torrent.gresille.org:80/announce&tr=udp://p4p.arenabg.com:1337&tr=udp://tracker.leechers-paradise.org:6969&tr=http://track.one:1234/announce&tr=udp://track.two:80\n"
          ]
        }
      ]
    },
    {
      "cell_type": "code",
      "source": [
        "from google.colab import drive\n",
        "\n",
        "drive.mount(\"/content/drive\")"
      ],
      "metadata": {
        "colab": {
          "base_uri": "https://localhost:8080/"
        },
        "id": "3A_HJZGkxmrr",
        "outputId": "a740a704-80a7-447e-dc27-a9a7b0041d28"
      },
      "execution_count": 15,
      "outputs": [
        {
          "output_type": "stream",
          "name": "stdout",
          "text": [
            "Mounted at /content/drive\n"
          ]
        }
      ]
    },
    {
      "cell_type": "code",
      "source": [
        "torrent1.download_torrent_file( \"/content/drive/My Drive/Torrent\" , \"The invisible man.mov\" )"
      ],
      "metadata": {
        "colab": {
          "base_uri": "https://localhost:8080/"
        },
        "id": "MT_FzbPAw9WA",
        "outputId": "b70288c7-6eb0-4825-be96-5f38d8809246"
      },
      "execution_count": 18,
      "outputs": [
        {
          "output_type": "stream",
          "name": "stdout",
          "text": [
            "https://yts.mx/torrent/download/2FE8317F5272377BF506361D636475AE87260DE9\n"
          ]
        },
        {
          "output_type": "stream",
          "name": "stderr",
          "text": [
            "/usr/local/lib/python3.7/dist-packages/ipykernel_launcher.py:1: DeprecationWarning: URLopener style of invoking requests is deprecated. Use newer urlopen functions/methods\n",
            "  \"\"\"Entry point for launching an IPython kernel.\n"
          ]
        }
      ]
    },
    {
      "cell_type": "code",
      "source": [
        "torrent1.start_download()"
      ],
      "metadata": {
        "colab": {
          "base_uri": "https://localhost:8080/",
          "height": 169
        },
        "id": "OrXZVYZT14RQ",
        "outputId": "3d0859df-f0b4-42d3-e1e1-2e1fc79b8ada"
      },
      "execution_count": 19,
      "outputs": [
        {
          "output_type": "error",
          "ename": "AttributeError",
          "evalue": "ignored",
          "traceback": [
            "\u001b[0;31m---------------------------------------------------------------------------\u001b[0m",
            "\u001b[0;31mAttributeError\u001b[0m                            Traceback (most recent call last)",
            "\u001b[0;32m<ipython-input-19-18a7a60d5d16>\u001b[0m in \u001b[0;36m<module>\u001b[0;34m\u001b[0m\n\u001b[0;32m----> 1\u001b[0;31m \u001b[0mtorrent1\u001b[0m\u001b[0;34m.\u001b[0m\u001b[0mstart_download\u001b[0m\u001b[0;34m(\u001b[0m\u001b[0;34m)\u001b[0m\u001b[0;34m\u001b[0m\u001b[0;34m\u001b[0m\u001b[0m\n\u001b[0m",
            "\u001b[0;31mAttributeError\u001b[0m: 'torrent' object has no attribute 'start_download'"
          ]
        }
      ]
    }
  ]
}